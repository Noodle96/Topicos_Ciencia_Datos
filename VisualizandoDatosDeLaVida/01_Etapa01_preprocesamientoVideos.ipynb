{
 "cells": [
  {
   "cell_type": "markdown",
   "id": "1419da6c",
   "metadata": {},
   "source": [
    "### Etapa 01"
   ]
  },
  {
   "cell_type": "markdown",
   "id": "77bb0251",
   "metadata": {},
   "source": [
    "- División y Preprocesamiento de Videos\n",
    "\n",
    "    - Cortar el video en segmentos (ej. cada 10 segundos, 30 segundos o 1 minuto) para procesar por lotes."
   ]
  },
  {
   "cell_type": "markdown",
   "id": "2ef3683b",
   "metadata": {},
   "source": [
    "#### Instalación de dependencias necesarias :\n",
    "\n",
    "- *pip install opencv-python deepface mediapipe pandas matplotlib*"
   ]
  },
  {
   "cell_type": "code",
   "execution_count": 6,
   "id": "d871b192",
   "metadata": {},
   "outputs": [],
   "source": [
    "import cv2\n",
    "import os\n",
    "from datetime import datetime, timedelta\n",
    "from typing import Optional\n"
   ]
  },
  {
   "cell_type": "markdown",
   "id": "40528b12",
   "metadata": {},
   "source": [
    "#### OpenCv para la extracción de frames"
   ]
  },
  {
   "cell_type": "code",
   "execution_count": 7,
   "id": "1cfe9a02",
   "metadata": {},
   "outputs": [
    {
     "name": "stdout",
     "output_type": "stream",
     "text": [
      "❌ La carpeta 'frames_output' ya existe. Eliminando...\n",
      "FPS del video: 60.0\n",
      "Intervalo de frames: 300 frames (5 segundos)\n",
      "Total de frames en el video: 6292\n",
      "21 frames extraídos correctamente en 'frames_output'.\n"
     ]
    }
   ],
   "source": [
    "def extract_frames(video_path: str, output_folder: str, interval_sec: int = 10) -> None:\n",
    "    \"\"\"\n",
    "    Extrae frames de un video cada `interval_sec` segundos y los guarda como imágenes.\n",
    "    Args:\n",
    "        video_path (str): Ruta del archivo de video.\n",
    "        output_folder (str): Carpeta donde se guardarán los frames extraídos.\n",
    "        interval_sec (int): Intervalo de tiempo en segundos entre cada frame guardado.\n",
    "    \"\"\"\n",
    "    # Extraer timestamp inicial desde el nombre del archivo\n",
    "    video_name: str = os.path.basename(video_path).split('.')[0]\n",
    "    try:\n",
    "        start_time: datetime = datetime.strptime(video_name, \"%Y-%m-%d_%H-%M-%S\")\n",
    "    except ValueError:\n",
    "        print(\"Error: El nombre del archivo debe tener el formato 'YYYY-MM-DD_HH-MM-SS.ext'\")\n",
    "        return\n",
    "\n",
    "\n",
    "    # Eliminar la carpeta si existe\n",
    "    if os.path.exists(output_folder):\n",
    "        print(f\"❌ La carpeta '{output_folder}' ya existe. Eliminando...\")\n",
    "        for file in os.listdir(output_folder):\n",
    "            file_path: str = os.path.join(output_folder, file)\n",
    "            # print(f\"Eliminando {file_path}...\")\n",
    "            try:\n",
    "                if os.path.isfile(file_path):\n",
    "                    os.unlink(file_path)\n",
    "                elif os.path.isdir(file_path):\n",
    "                    os.rmdir(file_path)\n",
    "            except Exception as e:\n",
    "                print(f\"Error al eliminar {file_path}: {e}\")\n",
    "    # Crear la carpeta de salida si no existe\n",
    "    os.makedirs(output_folder, exist_ok=True)\n",
    "\n",
    "    # Abrir el video con OpenCV\n",
    "    cap: cv2.VideoCapture = cv2.VideoCapture(video_path)\n",
    "\n",
    "    # Obtener los frames por segundo del video (para calcular intervalos por tiempo)\n",
    "    fps: float = cap.get(cv2.CAP_PROP_FPS)\n",
    "    print(f\"FPS del video: {fps}\")\n",
    "\n",
    "    # Convertir segundos a cantidad de frames (por ejemplo: 10 seg → 300 frames si fps=30)\n",
    "    frame_interval: int = int(fps * interval_sec)\n",
    "    print(f\"Intervalo de frames: {frame_interval} frames ({interval_sec} segundos)\")\n",
    "\n",
    "    # Total de frames en el video (para saber cuándo detenerse)\n",
    "    total_frames: int = int(cap.get(cv2.CAP_PROP_FRAME_COUNT))\n",
    "    print(f\"Total de frames en el video: {total_frames}\")\n",
    "\n",
    "    count: int = 0       # Contador de frames leídos\n",
    "    saved: int = 0       # Contador de frames guardados\n",
    "\n",
    "    while cap.isOpened():\n",
    "        ret: bool\n",
    "        frame: cv2.typing.MatLike\n",
    "        ret, frame = cap.read()\n",
    "\n",
    "        # Si no se pudo leer un frame (fin del video), salir del bucle\n",
    "        if not ret:\n",
    "            break\n",
    "\n",
    "        # Guardar el frame si corresponde al intervalo especificado\n",
    "        if count % frame_interval == 0:\n",
    "            timestamp_sec: float = count / fps\n",
    "            current_time: datetime = start_time + timedelta(seconds=timestamp_sec)\n",
    "            filename: str = current_time.strftime(\"%Y-%m-%d_%H-%M-%S\") + \".jpg\"\n",
    "            output_path: str = os.path.join(output_folder, filename)\n",
    "\n",
    "            cv2.imwrite(output_path, frame)\n",
    "            saved += 1\n",
    "        count += 1\n",
    "\n",
    "    # Liberar el recurso del video\n",
    "    cap.release()\n",
    "    print(f\"{saved} frames extraídos correctamente en '{output_folder}'.\")\n",
    "\n",
    "# 🧪 Ejemplo de uso:\n",
    "extract_frames(\"2025-04-25_12-26-31.mkv\", \"frames_output\", interval_sec=5)\n"
   ]
  }
 ],
 "metadata": {
  "kernelspec": {
   "display_name": "base",
   "language": "python",
   "name": "python3"
  },
  "language_info": {
   "codemirror_mode": {
    "name": "ipython",
    "version": 3
   },
   "file_extension": ".py",
   "mimetype": "text/x-python",
   "name": "python",
   "nbconvert_exporter": "python",
   "pygments_lexer": "ipython3",
   "version": "3.12.2"
  }
 },
 "nbformat": 4,
 "nbformat_minor": 5
}
